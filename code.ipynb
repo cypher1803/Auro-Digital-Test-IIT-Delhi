{
  "nbformat": 4,
  "nbformat_minor": 0,
  "metadata": {
    "colab": {
      "provenance": []
    },
    "kernelspec": {
      "name": "python3",
      "display_name": "Python 3"
    },
    "language_info": {
      "name": "python"
    },
    "gpuClass": "standard"
  },
  "cells": [
    {
      "cell_type": "code",
      "execution_count": 7,
      "metadata": {
        "id": "vl-JHWMeH-AU"
      },
      "outputs": [],
      "source": [
        "from bs4 import BeautifulSoup\n",
        "\n",
        "import xml.etree.ElementTree as ET\n",
        "import heapq as heapq"
      ]
    },
    {
      "cell_type": "code",
      "source": [
        "tree = ET.parse('/content/drive/MyDrive/auro/orders.xml')\n",
        "root = tree.getroot()"
      ],
      "metadata": {
        "colab": {
          "base_uri": "https://localhost:8080/"
        },
        "id": "YU21NODCN-GE",
        "outputId": "58f53704-584e-4fff-9f00-130390c697be"
      },
      "execution_count": 4,
      "outputs": [
        {
          "output_type": "stream",
          "name": "stdout",
          "text": [
            "<Element 'AddOrder' at 0x7f713f815770>\n",
            "{'book': 'book-1', 'operation': 'SELL', 'price': '100.50', 'volume': '81', 'orderId': '1'}\n",
            "{'book': 'book-2', 'operation': 'SELL', 'price': '100.50', 'volume': '46', 'orderId': '11'}\n"
          ]
        }
      ]
    },
    {
      "cell_type": "code",
      "source": [
        "dic = {}\n",
        "\n",
        "pq_arr = []\n",
        "\n",
        "for i in range(len(root)):\n",
        "  x = root[i].attrib\n",
        "  if x['book'] not in dic:\n",
        "    dic['book'] = len(pq_arr)\n",
        "    pq_arr.append([[]])\n",
        "\n",
        "  if x['operation'] == 'SELL':\n",
        "    heapq.heappush(pq_arr[dic[x['book']]][0], x['price'])\n",
        "\n",
        "# we try to create a dict of dictionaries in which book no is the key of main dic, and value are the pq_array has two heaps, buy and sell."
      ],
      "metadata": {
        "id": "pLDppoUfPAYs"
      },
      "execution_count": null,
      "outputs": []
    }
  ]
}